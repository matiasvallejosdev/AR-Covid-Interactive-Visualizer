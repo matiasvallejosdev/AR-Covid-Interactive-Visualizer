{
  "nbformat": 4,
  "nbformat_minor": 0,
  "metadata": {
    "colab": {
      "name": "Colab 5 - Construir RNR Valoraciones de Google Play.ipynb",
      "provenance": [],
      "authorship_tag": "ABX9TyPUNSRfvslv6BKGP2VCQSGR",
      "include_colab_link": true
    },
    "kernelspec": {
      "name": "python3",
      "display_name": "Python 3"
    },
    "language_info": {
      "name": "python"
    }
  },
  "cells": [
    {
      "cell_type": "markdown",
      "metadata": {
        "id": "view-in-github",
        "colab_type": "text"
      },
      "source": [
        "<a href=\"https://colab.research.google.com/github/matiasvallejosdev/ar-covid-interactive-visualizer/blob/WorldVisualizer/Colab_5_Construir_RNR_Valoraciones_de_Google_Play.ipynb\" target=\"_parent\"><img src=\"https://colab.research.google.com/assets/colab-badge.svg\" alt=\"Open In Colab\"/></a>"
      ]
    },
    {
      "cell_type": "markdown",
      "metadata": {
        "id": "ya1hLxPE3RHm"
      },
      "source": [
        "# Classifier to google play reviews"
      ]
    },
    {
      "cell_type": "code",
      "metadata": {
        "colab": {
          "base_uri": "https://localhost:8080/"
        },
        "id": "XapNFR7e3Tzs",
        "outputId": "5a4e4abc-8024-4f6d-eff8-322169803899"
      },
      "source": [
        "import numpy as np\n",
        "import pandas as pd\n",
        "import matplotlib.pyplot as plt\n",
        "import tensorflow as tf\n",
        "import tensorflow.keras.layers as tfl\n",
        "\n",
        "import re\n",
        "import nltk\n",
        "from sklearn.model_selection import train_test_split\n",
        "from nltk.corpus import stopwords\n",
        "\n",
        "nltk.download('stopwords')"
      ],
      "execution_count": null,
      "outputs": [
        {
          "output_type": "stream",
          "text": [
            "[nltk_data] Downloading package stopwords to /root/nltk_data...\n",
            "[nltk_data]   Unzipping corpora/stopwords.zip.\n"
          ],
          "name": "stdout"
        },
        {
          "output_type": "execute_result",
          "data": {
            "text/plain": [
              "True"
            ]
          },
          "metadata": {
            "tags": []
          },
          "execution_count": 3
        }
      ]
    },
    {
      "cell_type": "code",
      "metadata": {
        "id": "0fOeUrAI3-1S"
      },
      "source": [
        ""
      ],
      "execution_count": null,
      "outputs": []
    },
    {
      "cell_type": "markdown",
      "metadata": {
        "id": "bmE1hE704BmC"
      },
      "source": [
        "## 1. Load data\n"
      ]
    },
    {
      "cell_type": "code",
      "metadata": {
        "colab": {
          "base_uri": "https://localhost:8080/"
        },
        "id": "SMGGfEh-4D1S",
        "outputId": "d9d699d3-d589-4a2f-bd0a-27304237fa92"
      },
      "source": [
        "from google.colab import drive\n",
        "drive.mount('/content/drive')"
      ],
      "execution_count": null,
      "outputs": [
        {
          "output_type": "stream",
          "text": [
            "Mounted at /content/drive\n"
          ],
          "name": "stdout"
        }
      ]
    },
    {
      "cell_type": "code",
      "metadata": {
        "id": "yj-sf5Jp5NGr"
      },
      "source": [
        "dataframe = pd.read_csv('/content/drive/My Drive/Machine Learning/Datasets/googleplaystore_reviews/googleplaystore_user_reviews.csv')"
      ],
      "execution_count": null,
      "outputs": []
    },
    {
      "cell_type": "code",
      "metadata": {
        "colab": {
          "base_uri": "https://localhost:8080/",
          "height": 204
        },
        "id": "heAbzlIB5ud7",
        "outputId": "0039fd3d-96cd-46f4-ebc8-86fae997e6b9"
      },
      "source": [
        "dataframe = dataframe.dropna()\n",
        "dataframe.head()"
      ],
      "execution_count": null,
      "outputs": [
        {
          "output_type": "execute_result",
          "data": {
            "text/html": [
              "<div>\n",
              "<style scoped>\n",
              "    .dataframe tbody tr th:only-of-type {\n",
              "        vertical-align: middle;\n",
              "    }\n",
              "\n",
              "    .dataframe tbody tr th {\n",
              "        vertical-align: top;\n",
              "    }\n",
              "\n",
              "    .dataframe thead th {\n",
              "        text-align: right;\n",
              "    }\n",
              "</style>\n",
              "<table border=\"1\" class=\"dataframe\">\n",
              "  <thead>\n",
              "    <tr style=\"text-align: right;\">\n",
              "      <th></th>\n",
              "      <th>App</th>\n",
              "      <th>Translated_Review</th>\n",
              "      <th>Sentiment</th>\n",
              "      <th>Sentiment_Polarity</th>\n",
              "      <th>Sentiment_Subjectivity</th>\n",
              "    </tr>\n",
              "  </thead>\n",
              "  <tbody>\n",
              "    <tr>\n",
              "      <th>0</th>\n",
              "      <td>10 Best Foods for You</td>\n",
              "      <td>I like eat delicious food. That's I'm cooking ...</td>\n",
              "      <td>Positive</td>\n",
              "      <td>1.00</td>\n",
              "      <td>0.533333</td>\n",
              "    </tr>\n",
              "    <tr>\n",
              "      <th>1</th>\n",
              "      <td>10 Best Foods for You</td>\n",
              "      <td>This help eating healthy exercise regular basis</td>\n",
              "      <td>Positive</td>\n",
              "      <td>0.25</td>\n",
              "      <td>0.288462</td>\n",
              "    </tr>\n",
              "    <tr>\n",
              "      <th>3</th>\n",
              "      <td>10 Best Foods for You</td>\n",
              "      <td>Works great especially going grocery store</td>\n",
              "      <td>Positive</td>\n",
              "      <td>0.40</td>\n",
              "      <td>0.875000</td>\n",
              "    </tr>\n",
              "    <tr>\n",
              "      <th>4</th>\n",
              "      <td>10 Best Foods for You</td>\n",
              "      <td>Best idea us</td>\n",
              "      <td>Positive</td>\n",
              "      <td>1.00</td>\n",
              "      <td>0.300000</td>\n",
              "    </tr>\n",
              "    <tr>\n",
              "      <th>5</th>\n",
              "      <td>10 Best Foods for You</td>\n",
              "      <td>Best way</td>\n",
              "      <td>Positive</td>\n",
              "      <td>1.00</td>\n",
              "      <td>0.300000</td>\n",
              "    </tr>\n",
              "  </tbody>\n",
              "</table>\n",
              "</div>"
            ],
            "text/plain": [
              "                     App  ... Sentiment_Subjectivity\n",
              "0  10 Best Foods for You  ...               0.533333\n",
              "1  10 Best Foods for You  ...               0.288462\n",
              "3  10 Best Foods for You  ...               0.875000\n",
              "4  10 Best Foods for You  ...               0.300000\n",
              "5  10 Best Foods for You  ...               0.300000\n",
              "\n",
              "[5 rows x 5 columns]"
            ]
          },
          "metadata": {
            "tags": []
          },
          "execution_count": 12
        }
      ]
    },
    {
      "cell_type": "code",
      "metadata": {
        "colab": {
          "base_uri": "https://localhost:8080/",
          "height": 297
        },
        "id": "eWLx45xp5wro",
        "outputId": "7e131609-c7e0-4121-8fc0-01d3d8f65d51"
      },
      "source": [
        "dataframe.describe()"
      ],
      "execution_count": null,
      "outputs": [
        {
          "output_type": "execute_result",
          "data": {
            "text/html": [
              "<div>\n",
              "<style scoped>\n",
              "    .dataframe tbody tr th:only-of-type {\n",
              "        vertical-align: middle;\n",
              "    }\n",
              "\n",
              "    .dataframe tbody tr th {\n",
              "        vertical-align: top;\n",
              "    }\n",
              "\n",
              "    .dataframe thead th {\n",
              "        text-align: right;\n",
              "    }\n",
              "</style>\n",
              "<table border=\"1\" class=\"dataframe\">\n",
              "  <thead>\n",
              "    <tr style=\"text-align: right;\">\n",
              "      <th></th>\n",
              "      <th>Sentiment_Polarity</th>\n",
              "      <th>Sentiment_Subjectivity</th>\n",
              "    </tr>\n",
              "  </thead>\n",
              "  <tbody>\n",
              "    <tr>\n",
              "      <th>count</th>\n",
              "      <td>37427.000000</td>\n",
              "      <td>37427.000000</td>\n",
              "    </tr>\n",
              "    <tr>\n",
              "      <th>mean</th>\n",
              "      <td>0.182171</td>\n",
              "      <td>0.492770</td>\n",
              "    </tr>\n",
              "    <tr>\n",
              "      <th>std</th>\n",
              "      <td>0.351318</td>\n",
              "      <td>0.259904</td>\n",
              "    </tr>\n",
              "    <tr>\n",
              "      <th>min</th>\n",
              "      <td>-1.000000</td>\n",
              "      <td>0.000000</td>\n",
              "    </tr>\n",
              "    <tr>\n",
              "      <th>25%</th>\n",
              "      <td>0.000000</td>\n",
              "      <td>0.357143</td>\n",
              "    </tr>\n",
              "    <tr>\n",
              "      <th>50%</th>\n",
              "      <td>0.150000</td>\n",
              "      <td>0.514286</td>\n",
              "    </tr>\n",
              "    <tr>\n",
              "      <th>75%</th>\n",
              "      <td>0.400000</td>\n",
              "      <td>0.650000</td>\n",
              "    </tr>\n",
              "    <tr>\n",
              "      <th>max</th>\n",
              "      <td>1.000000</td>\n",
              "      <td>1.000000</td>\n",
              "    </tr>\n",
              "  </tbody>\n",
              "</table>\n",
              "</div>"
            ],
            "text/plain": [
              "       Sentiment_Polarity  Sentiment_Subjectivity\n",
              "count        37427.000000            37427.000000\n",
              "mean             0.182171                0.492770\n",
              "std              0.351318                0.259904\n",
              "min             -1.000000                0.000000\n",
              "25%              0.000000                0.357143\n",
              "50%              0.150000                0.514286\n",
              "75%              0.400000                0.650000\n",
              "max              1.000000                1.000000"
            ]
          },
          "metadata": {
            "tags": []
          },
          "execution_count": 13
        }
      ]
    },
    {
      "cell_type": "markdown",
      "metadata": {
        "id": "mBUZn8lq8t24"
      },
      "source": [
        "## 2. Preprocessing data"
      ]
    },
    {
      "cell_type": "code",
      "metadata": {
        "colab": {
          "base_uri": "https://localhost:8080/",
          "height": 204
        },
        "id": "UB1Pgvol50PY",
        "outputId": "da99386a-2382-45e0-df0f-f11376e5c4cb"
      },
      "source": [
        "dataframe = dataframe[['Translated_Review','Sentiment']]\n",
        "dataframe.head()"
      ],
      "execution_count": null,
      "outputs": [
        {
          "output_type": "execute_result",
          "data": {
            "text/html": [
              "<div>\n",
              "<style scoped>\n",
              "    .dataframe tbody tr th:only-of-type {\n",
              "        vertical-align: middle;\n",
              "    }\n",
              "\n",
              "    .dataframe tbody tr th {\n",
              "        vertical-align: top;\n",
              "    }\n",
              "\n",
              "    .dataframe thead th {\n",
              "        text-align: right;\n",
              "    }\n",
              "</style>\n",
              "<table border=\"1\" class=\"dataframe\">\n",
              "  <thead>\n",
              "    <tr style=\"text-align: right;\">\n",
              "      <th></th>\n",
              "      <th>Translated_Review</th>\n",
              "      <th>Sentiment</th>\n",
              "    </tr>\n",
              "  </thead>\n",
              "  <tbody>\n",
              "    <tr>\n",
              "      <th>0</th>\n",
              "      <td>I like eat delicious food. That's I'm cooking ...</td>\n",
              "      <td>Positive</td>\n",
              "    </tr>\n",
              "    <tr>\n",
              "      <th>1</th>\n",
              "      <td>This help eating healthy exercise regular basis</td>\n",
              "      <td>Positive</td>\n",
              "    </tr>\n",
              "    <tr>\n",
              "      <th>3</th>\n",
              "      <td>Works great especially going grocery store</td>\n",
              "      <td>Positive</td>\n",
              "    </tr>\n",
              "    <tr>\n",
              "      <th>4</th>\n",
              "      <td>Best idea us</td>\n",
              "      <td>Positive</td>\n",
              "    </tr>\n",
              "    <tr>\n",
              "      <th>5</th>\n",
              "      <td>Best way</td>\n",
              "      <td>Positive</td>\n",
              "    </tr>\n",
              "  </tbody>\n",
              "</table>\n",
              "</div>"
            ],
            "text/plain": [
              "                                   Translated_Review Sentiment\n",
              "0  I like eat delicious food. That's I'm cooking ...  Positive\n",
              "1    This help eating healthy exercise regular basis  Positive\n",
              "3         Works great especially going grocery store  Positive\n",
              "4                                       Best idea us  Positive\n",
              "5                                           Best way  Positive"
            ]
          },
          "metadata": {
            "tags": []
          },
          "execution_count": 14
        }
      ]
    },
    {
      "cell_type": "code",
      "metadata": {
        "id": "8jUVAp2-6rtJ"
      },
      "source": [
        "def preprocess_text(sen):\n",
        "    # Eliminar símbolos de puntuación y números\n",
        "    sentence = re.sub('[^a-zA-Z]', ' ', sen)\n",
        "\n",
        "    # Eliminar carácteres sueltos\n",
        "    sentence = re.sub(r\"\\s+[a-zA-Z]\\s+\", ' ', sentence)\n",
        "\n",
        "    # Eliminar espacios excesivos\n",
        "    sentence = re.sub(r'\\s+', ' ', sentence)\n",
        "\n",
        "    # Convertir a minúscula\n",
        "    sentence = sentence.lower()\n",
        "  \n",
        "    # Eliminar las stopwords.\n",
        "    words = sentence.split()\n",
        "    filtered_words = [word for word in words if word not in stopwords.words('english')]\n",
        "    \n",
        "    return ' '.join(filtered_words)"
      ],
      "execution_count": null,
      "outputs": []
    },
    {
      "cell_type": "code",
      "metadata": {
        "colab": {
          "base_uri": "https://localhost:8080/",
          "height": 419
        },
        "id": "rDcT68qD6unK",
        "outputId": "aedda754-1ce4-4e2a-af4b-b0edcdf08492"
      },
      "source": [
        "dataframe['Translated_Review'] = dataframe['Translated_Review'].apply(lambda sen: preprocess_text(sen))\n",
        "dataframe"
      ],
      "execution_count": null,
      "outputs": [
        {
          "output_type": "execute_result",
          "data": {
            "text/html": [
              "<div>\n",
              "<style scoped>\n",
              "    .dataframe tbody tr th:only-of-type {\n",
              "        vertical-align: middle;\n",
              "    }\n",
              "\n",
              "    .dataframe tbody tr th {\n",
              "        vertical-align: top;\n",
              "    }\n",
              "\n",
              "    .dataframe thead th {\n",
              "        text-align: right;\n",
              "    }\n",
              "</style>\n",
              "<table border=\"1\" class=\"dataframe\">\n",
              "  <thead>\n",
              "    <tr style=\"text-align: right;\">\n",
              "      <th></th>\n",
              "      <th>Translated_Review</th>\n",
              "      <th>Sentiment</th>\n",
              "    </tr>\n",
              "  </thead>\n",
              "  <tbody>\n",
              "    <tr>\n",
              "      <th>0</th>\n",
              "      <td>like eat delicious food cooking food case best...</td>\n",
              "      <td>Positive</td>\n",
              "    </tr>\n",
              "    <tr>\n",
              "      <th>1</th>\n",
              "      <td>help eating healthy exercise regular basis</td>\n",
              "      <td>Positive</td>\n",
              "    </tr>\n",
              "    <tr>\n",
              "      <th>3</th>\n",
              "      <td>works great especially going grocery store</td>\n",
              "      <td>Positive</td>\n",
              "    </tr>\n",
              "    <tr>\n",
              "      <th>4</th>\n",
              "      <td>best idea us</td>\n",
              "      <td>Positive</td>\n",
              "    </tr>\n",
              "    <tr>\n",
              "      <th>5</th>\n",
              "      <td>best way</td>\n",
              "      <td>Positive</td>\n",
              "    </tr>\n",
              "    <tr>\n",
              "      <th>...</th>\n",
              "      <td>...</td>\n",
              "      <td>...</td>\n",
              "    </tr>\n",
              "    <tr>\n",
              "      <th>64222</th>\n",
              "      <td>ads older many agents much owner posted detail...</td>\n",
              "      <td>Positive</td>\n",
              "    </tr>\n",
              "    <tr>\n",
              "      <th>64223</th>\n",
              "      <td>photos posted portal load fit purpose sure sto...</td>\n",
              "      <td>Positive</td>\n",
              "    </tr>\n",
              "    <tr>\n",
              "      <th>64226</th>\n",
              "      <td>dumb app wanted post property rent give option...</td>\n",
              "      <td>Negative</td>\n",
              "    </tr>\n",
              "    <tr>\n",
              "      <th>64227</th>\n",
              "      <td>property business got link sms happy performan...</td>\n",
              "      <td>Positive</td>\n",
              "    </tr>\n",
              "    <tr>\n",
              "      <th>64230</th>\n",
              "      <td>useless app searched flats kondapur hyderabad ...</td>\n",
              "      <td>Negative</td>\n",
              "    </tr>\n",
              "  </tbody>\n",
              "</table>\n",
              "<p>37427 rows × 2 columns</p>\n",
              "</div>"
            ],
            "text/plain": [
              "                                       Translated_Review Sentiment\n",
              "0      like eat delicious food cooking food case best...  Positive\n",
              "1             help eating healthy exercise regular basis  Positive\n",
              "3             works great especially going grocery store  Positive\n",
              "4                                           best idea us  Positive\n",
              "5                                               best way  Positive\n",
              "...                                                  ...       ...\n",
              "64222  ads older many agents much owner posted detail...  Positive\n",
              "64223  photos posted portal load fit purpose sure sto...  Positive\n",
              "64226  dumb app wanted post property rent give option...  Negative\n",
              "64227  property business got link sms happy performan...  Positive\n",
              "64230  useless app searched flats kondapur hyderabad ...  Negative\n",
              "\n",
              "[37427 rows x 2 columns]"
            ]
          },
          "metadata": {
            "tags": []
          },
          "execution_count": 16
        }
      ]
    },
    {
      "cell_type": "code",
      "metadata": {
        "id": "aIB3cIwY7BYK"
      },
      "source": [
        "def determine_class(label):\n",
        "  if label == 'Positive':\n",
        "    return 0\n",
        "  elif label == 'Neutral':\n",
        "    return 1\n",
        "  elif label == 'Negative':\n",
        "    return 2\n",
        "\n",
        "REMOVE_NEUTRAL = False\n",
        "MERGE_NEGATIVE_NEUTRAL = False\n",
        "\n",
        "if REMOVE_NEUTRAL:\n",
        "  indexNames = dataframe[dataframe['Sentiment'] == 'Neutral'].index\n",
        "  dataframe.drop(indexNames , inplace=True)\n",
        "\n",
        "  y = dataframe['Sentiment'].apply(lambda x: 1 if x == 'Positive' else 0).to_numpy()\n",
        "  #y = tf.one_hot(y, 2)\n",
        "else:\n",
        "  if MERGE_NEGATIVE_NEUTRAL:\n",
        "    y = dataframe['Sentiment'].apply(lambda x: 1 if x == 'Positive' else 0).to_numpy()\n",
        "    #y = tf.one_hot(y, 2)\n",
        "  else: \n",
        "    y = dataframe['Sentiment'].apply(lambda x: determine_class(x)).to_numpy()\n",
        "    #y = tf.one_hot(y, 3)\n",
        "\n",
        "X = dataframe['Translated_Review']\n",
        "y = y.astype(np.uint8)"
      ],
      "execution_count": null,
      "outputs": []
    },
    {
      "cell_type": "code",
      "metadata": {
        "colab": {
          "base_uri": "https://localhost:8080/"
        },
        "id": "dT-fRywK7I0X",
        "outputId": "3c6c24be-3a6d-43fb-cc79-09e966ba172f"
      },
      "source": [
        "print('The shape of X is:', X.shape)\n",
        "print('The shape of y is:', y.shape)"
      ],
      "execution_count": null,
      "outputs": [
        {
          "output_type": "stream",
          "text": [
            "The shape of X is: (37427,)\n",
            "The shape of y is: (37427,)\n"
          ],
          "name": "stdout"
        }
      ]
    },
    {
      "cell_type": "code",
      "metadata": {
        "colab": {
          "base_uri": "https://localhost:8080/"
        },
        "id": "Jb1CMsfb7bCO",
        "outputId": "c87763c0-468d-4162-ffe6-42d7a5dbae68"
      },
      "source": [
        "X.head()"
      ],
      "execution_count": null,
      "outputs": [
        {
          "output_type": "execute_result",
          "data": {
            "text/plain": [
              "0    like eat delicious food cooking food case best...\n",
              "1           help eating healthy exercise regular basis\n",
              "3           works great especially going grocery store\n",
              "4                                         best idea us\n",
              "5                                             best way\n",
              "Name: Translated_Review, dtype: object"
            ]
          },
          "metadata": {
            "tags": []
          },
          "execution_count": 21
        }
      ]
    },
    {
      "cell_type": "code",
      "metadata": {
        "colab": {
          "base_uri": "https://localhost:8080/"
        },
        "id": "Zzfzo8DO7lcl",
        "outputId": "549ce380-1c07-4a51-d852-6459c9c93581"
      },
      "source": [
        "y"
      ],
      "execution_count": null,
      "outputs": [
        {
          "output_type": "execute_result",
          "data": {
            "text/plain": [
              "array([0, 0, 0, ..., 2, 0, 2], dtype=uint8)"
            ]
          },
          "metadata": {
            "tags": []
          },
          "execution_count": 23
        }
      ]
    },
    {
      "cell_type": "markdown",
      "metadata": {
        "id": "-MnuyQ707tJl"
      },
      "source": [
        "Split data to train and test set"
      ]
    },
    {
      "cell_type": "code",
      "metadata": {
        "id": "jWVPGo7F7xAJ"
      },
      "source": [
        "X_train, X_test, y_train, y_test = train_test_split(X, y, test_size = 0.2, random_state = 42)"
      ],
      "execution_count": null,
      "outputs": []
    },
    {
      "cell_type": "markdown",
      "metadata": {
        "id": "4QPjHjbj8Uhs"
      },
      "source": [
        "Padding frecuent preproccesing data"
      ]
    },
    {
      "cell_type": "code",
      "metadata": {
        "id": "IgepO_yY8D3Z"
      },
      "source": [
        "NUMBER_OF_WORDS = 20000\n",
        "MAX_LEN = 100\n",
        "\n",
        "tokenizer = tf.keras.preprocessing.text.Tokenizer(num_words = NUMBER_OF_WORDS)\n",
        "tokenizer.fit_on_texts(X_train)\n",
        "\n",
        "X_train = tokenizer.texts_to_sequences(X_train)\n",
        "X_test = tokenizer.texts_to_sequences(X_test)"
      ],
      "execution_count": null,
      "outputs": []
    },
    {
      "cell_type": "code",
      "metadata": {
        "id": "WXtj1PAo8dOr"
      },
      "source": [
        "X_train = tf.keras.preprocessing.sequence.pad_sequences(X_train, padding='post', maxlen=MAX_LEN)\n",
        "X_test = tf.keras.preprocessing.sequence.pad_sequences(X_test, padding='post', maxlen=MAX_LEN)"
      ],
      "execution_count": null,
      "outputs": []
    },
    {
      "cell_type": "markdown",
      "metadata": {
        "id": "fUyiv4s_84c6"
      },
      "source": [
        "## 3. Create the model"
      ]
    },
    {
      "cell_type": "code",
      "metadata": {
        "id": "sJAbpBD48lyQ"
      },
      "source": [
        "VOCABULARY_SIZE = NUMBER_OF_WORDS\n",
        "EMBEDDING_SIZE = 128"
      ],
      "execution_count": null,
      "outputs": []
    },
    {
      "cell_type": "code",
      "metadata": {
        "id": "oK5Dv0XP9DkY"
      },
      "source": [
        "model = tf.keras.Sequential([\n",
        "                             tfl.Embedding(VOCABULARY_SIZE, EMBEDDING_SIZE, input_shape=(X_train.shape[1],)),\n",
        "                             tfl.LSTM(units=128, activation='tanh'),\n",
        "                             tfl.Dense(64, activation='relu'),\n",
        "                             tfl.Dropout(0.2),\n",
        "                             tfl.Dense(units=np.unique(y_train).shape[0], activation='sigmoid')\n",
        "])"
      ],
      "execution_count": null,
      "outputs": []
    },
    {
      "cell_type": "code",
      "metadata": {
        "colab": {
          "base_uri": "https://localhost:8080/"
        },
        "id": "dpWYbZ2w92dg",
        "outputId": "f763c5ed-d711-4fbe-8bc2-9b4770dea560"
      },
      "source": [
        "model.summary()"
      ],
      "execution_count": null,
      "outputs": [
        {
          "output_type": "stream",
          "text": [
            "Model: \"sequential_8\"\n",
            "_________________________________________________________________\n",
            "Layer (type)                 Output Shape              Param #   \n",
            "=================================================================\n",
            "embedding_9 (Embedding)      (None, 100, 128)          2560000   \n",
            "_________________________________________________________________\n",
            "dropout_11 (Dropout)         (None, 100, 128)          0         \n",
            "_________________________________________________________________\n",
            "lstm_8 (LSTM)                (None, 128)               131584    \n",
            "_________________________________________________________________\n",
            "dropout_12 (Dropout)         (None, 128)               0         \n",
            "_________________________________________________________________\n",
            "dense_7 (Dense)              (None, 3)                 387       \n",
            "=================================================================\n",
            "Total params: 2,691,971\n",
            "Trainable params: 2,691,971\n",
            "Non-trainable params: 0\n",
            "_________________________________________________________________\n"
          ],
          "name": "stdout"
        }
      ]
    },
    {
      "cell_type": "code",
      "metadata": {
        "id": "yFHqVlEj942H"
      },
      "source": [
        "model.compile(optimizer='rmsprop', loss='sparse_categorical_crossentropy', metrics=['sparse_categorical_accuracy'])"
      ],
      "execution_count": null,
      "outputs": []
    },
    {
      "cell_type": "code",
      "metadata": {
        "id": "QintXvZ1-PEx"
      },
      "source": [
        "EPOCHS = 10\n",
        "BATCH_SIZE = 128"
      ],
      "execution_count": null,
      "outputs": []
    },
    {
      "cell_type": "code",
      "metadata": {
        "colab": {
          "base_uri": "https://localhost:8080/"
        },
        "id": "--LrjagY-NMg",
        "outputId": "cca95da6-b650-401f-a6d0-728564f0e20f"
      },
      "source": [
        "model.fit(X_train, y_train, epochs=EPOCHS, batch_size=BATCH_SIZE)"
      ],
      "execution_count": null,
      "outputs": [
        {
          "output_type": "stream",
          "text": [
            "Epoch 1/10\n",
            "234/234 [==============================] - 93s 388ms/step - loss: 0.9023 - sparse_categorical_accuracy: 0.6395\n",
            "Epoch 2/10\n",
            "234/234 [==============================] - 90s 386ms/step - loss: 0.8960 - sparse_categorical_accuracy: 0.6417\n",
            "Epoch 3/10\n",
            "234/234 [==============================] - 91s 387ms/step - loss: 0.8953 - sparse_categorical_accuracy: 0.6417\n",
            "Epoch 4/10\n",
            "234/234 [==============================] - 90s 386ms/step - loss: 0.8948 - sparse_categorical_accuracy: 0.6418\n",
            "Epoch 5/10\n",
            "234/234 [==============================] - 91s 389ms/step - loss: 0.8940 - sparse_categorical_accuracy: 0.6418\n",
            "Epoch 6/10\n",
            "234/234 [==============================] - 91s 389ms/step - loss: 0.8919 - sparse_categorical_accuracy: 0.6416\n",
            "Epoch 7/10\n",
            "234/234 [==============================] - 91s 388ms/step - loss: 0.8806 - sparse_categorical_accuracy: 0.6452\n",
            "Epoch 8/10\n",
            "234/234 [==============================] - 90s 386ms/step - loss: 0.8847 - sparse_categorical_accuracy: 0.6488\n",
            "Epoch 9/10\n",
            "234/234 [==============================] - 90s 385ms/step - loss: 0.8682 - sparse_categorical_accuracy: 0.6520\n",
            "Epoch 10/10\n",
            "234/234 [==============================] - 90s 387ms/step - loss: 0.8533 - sparse_categorical_accuracy: 0.6393\n"
          ],
          "name": "stdout"
        },
        {
          "output_type": "execute_result",
          "data": {
            "text/plain": [
              "<tensorflow.python.keras.callbacks.History at 0x7f6bef0e0b90>"
            ]
          },
          "metadata": {
            "tags": []
          },
          "execution_count": 67
        }
      ]
    },
    {
      "cell_type": "code",
      "metadata": {
        "colab": {
          "base_uri": "https://localhost:8080/"
        },
        "id": "WDGxRXLVJrm8",
        "outputId": "3aa69914-a99f-4ea1-afc0-42801992ae15"
      },
      "source": [
        "test_loss, test_acurracy = model.evaluate(X_test, y_test)\n",
        "print(\"Test accuracy: {}\".format(test_acurracy))"
      ],
      "execution_count": null,
      "outputs": [
        {
          "output_type": "stream",
          "text": [
            "234/234 [==============================] - 8s 33ms/step - loss: 0.8526 - sparse_categorical_accuracy: 0.6392\n",
            "Test accuracy: 0.6391931772232056\n"
          ],
          "name": "stdout"
        }
      ]
    }
  ]
}